{
  "nbformat": 4,
  "nbformat_minor": 0,
  "metadata": {
    "colab": {
      "provenance": [],
      "collapsed_sections": [
        "0fYMjeXEd_0H",
        "1Mxzhb1qgbxt",
        "trWbmmjaojqg"
      ],
      "authorship_tag": "ABX9TyOoCC6N9w70l7UsSYEorzY7",
      "include_colab_link": true
    },
    "kernelspec": {
      "name": "python3",
      "display_name": "Python 3"
    },
    "language_info": {
      "name": "python"
    }
  },
  "cells": [
    {
      "cell_type": "markdown",
      "metadata": {
        "id": "view-in-github",
        "colab_type": "text"
      },
      "source": [
        "<a href=\"https://colab.research.google.com/github/Diishasing/MARKETING-CAMPAIGN-ANALYSIS/blob/main/MarketingCampaigns.ipynb\" target=\"_parent\"><img src=\"https://colab.research.google.com/assets/colab-badge.svg\" alt=\"Open In Colab\"/></a>"
      ]
    },
    {
      "cell_type": "markdown",
      "source": [
        "# **BUSINESS PROBLEM**\n",
        "\n",
        "---\n",
        "\n",
        "\n",
        "As a marketing agency, our primary objective is to maximize the return on investment (ROI) for our clients' advertising campaigns. We have conducted two and campaigns, one on Facebook and the other on AdWorks, and we need to determine which platform yields better results in terms of clicks, conversions and overall cost-effectiveness. By identifying the most effective platform, we can allocate our resources more efficiently and optimize our advertising strategies to deliver better outcomes for our clients."
      ],
      "metadata": {
        "id": "QzTjuIhAg1RH"
      }
    },
    {
      "cell_type": "markdown",
      "source": [
        "##**Research Question:**\n",
        "\n",
        "---\n",
        "**Which ad platform is more effective in terms of conversions, clicks, and overall cost-effectiveness?**\n"
      ],
      "metadata": {
        "id": "XOJHxDxyiJJ2"
      }
    },
    {
      "cell_type": "markdown",
      "source": [
        "IMPORTING LIBRARIES"
      ],
      "metadata": {
        "id": "hrSy9eyYigze"
      }
    },
    {
      "cell_type": "code",
      "execution_count": null,
      "metadata": {
        "id": "B-QjTvW6goBy"
      },
      "outputs": [],
      "source": [
        "import pandas as pd\n",
        "import numpy as np\n",
        "import scipy.stats as st\n",
        "from sklearn.linear_model import LinearRegression\n",
        "from sklearn.metrics import mean_squared_error, r2_score\n",
        "from statsmodels.tsa.seasonal import seasonal_decompose\n",
        "from statsmodels.stattools import coint\n",
        "import matplotlib.pyplot as plt\n",
        "import seaborn as sns\n",
        "import warnings\n",
        "warnings.filterwarnings('ignore')"
      ]
    },
    {
      "cell_type": "markdown",
      "source": [
        "**DATA DESCRIPTION**\n",
        "\n",
        "---\n",
        "The dataset comprises a collection of data comapring the performance of two separate ad campaigns conducted throughtout the year 2019. Specifically, the data covers a Facebook Ad campaign and an AdWords Ad campaign. For each day of year 2019, there is a corresponding row in the dataset. resulting in a total of 365 lines of campaign data to analyze. The dataset includes various performance metrices for each ad campaign, providing insights into their effectiveness and efficiency over time.\n",
        "\n",
        "Key features included in the dataset are as follows:\n",
        "\n",
        "\n",
        "*   Date: The date corresponding to each row of campaign data, ranging from January 1st, 2019, to December 31st, 2019.\n",
        "*   Ad Views: The number of times the ad was viewed.\n",
        "* Ad Clicks: The number of clicks received on the ad.\n",
        "* Ad Conversions: The number of conversions resulting from the ad.\n",
        "* Cost per Ad: The cost associated with running the Facebook ad campaign.\n",
        "* Click-Through Rate (CTR): The ratio of clicks to views, indicating the effectiveness of the ad in generating clicks.\n",
        "* Convertion Rate: The ratio of conversions to clicks, reflecting the effectiveness of the ad in driving desired actions.\n",
        "* Cost per click (CPC): The average cost incurred per click on the ad.\n",
        "\n",
        "\n",
        "\n"
      ],
      "metadata": {
        "id": "qsJfzD-T0HIb"
      }
    },
    {
      "cell_type": "code",
      "source": [
        "#loading the dataset\n",
        "df = pd.read_csv('marketing_campaign.csv')"
      ],
      "metadata": {
        "id": "SO7i8McV0GSF"
      },
      "execution_count": null,
      "outputs": []
    },
    {
      "cell_type": "code",
      "source": [
        "df.head()"
      ],
      "metadata": {
        "id": "UbQwHSv9N6K6"
      },
      "execution_count": null,
      "outputs": []
    },
    {
      "cell_type": "code",
      "source": [
        "df.shape()"
      ],
      "metadata": {
        "id": "vH72ctsxN7d5"
      },
      "execution_count": null,
      "outputs": []
    },
    {
      "cell_type": "code",
      "source": [
        "df.dtypes()"
      ],
      "metadata": {
        "id": "jrNoMceAN-W1"
      },
      "execution_count": null,
      "outputs": []
    },
    {
      "cell_type": "code",
      "source": [
        "df['Date'] = pd.to_datetime(df['Date'])"
      ],
      "metadata": {
        "id": "hVgLbR1sN-Tb"
      },
      "execution_count": null,
      "outputs": []
    },
    {
      "cell_type": "code",
      "source": [
        "df.describe()"
      ],
      "metadata": {
        "id": "b2R3agm6N-RO"
      },
      "execution_count": null,
      "outputs": []
    },
    {
      "cell_type": "markdown",
      "source": [
        "COMPARING CAMPAIGNS PERFORMANCE"
      ],
      "metadata": {
        "id": "nhdvaFxCOsbg"
      }
    },
    {
      "cell_type": "code",
      "source": [
        "#distribution of the clicks and conversions\n",
        "plt.figure(figsize = 15, 6)\n",
        "plt.subplot(1, 2, 1)\n",
        "plt.title('Facebook Ad Clicks')\n",
        "sns.histplot(df['Facebook Ad Clicks'], bins = 7, edgecolor = 'k', kde = True)\n",
        "plt.subplot(1, 2, 2)\n",
        "plt.title('Facebook Ad Conversions')\n",
        "sns.histplot(df['Facebook Ad Conversions'], bins = 7, edgecolor = 'k', kde = True)\n",
        "plt.show()\n",
        "\n",
        "plt.figure(figsize = 15, 6)\n",
        "plt.subplot(1, 2, 1)\n",
        "plt.title('AdWorks Ad Clicks')\n",
        "sns.histplot(df['AdWorks Ad Clicks'], bins = 7, edgecolor = 'k', kde = True)\n",
        "plt.subplot(1, 2, 2)\n",
        "plt.title('AdWorks Ad Conversions')\n",
        "sns.histplot(df['AdWorks Ad Conversions'], bins = 7, edgecolor = 'k', kde = True)\n",
        "plt.show()"
      ],
      "metadata": {
        "id": "qYkWM_EGN-MB"
      },
      "execution_count": null,
      "outputs": []
    },
    {
      "cell_type": "markdown",
      "source": [
        "All the histogram are showing somewhat symmetrical shape. This symmetrical shape suggests that the number of clicks and conversions is relatively evenly distributed. In other words, there are not many clicks or conversions that are outliers on either the high or low end."
      ],
      "metadata": {
        "id": "CZKr-W36Su-M"
      }
    },
    {
      "cell_type": "markdown",
      "source": [
        "**How frequently do we observe days with high numbers of conversions compared to days with low numbers of conversions?**"
      ],
      "metadata": {
        "id": "3dqP2A7ITDfM"
      }
    },
    {
      "cell_type": "code",
      "source": [
        "#creating function to calculate the category for the conversions\n",
        "def create_conversion_category(conversion_col):\n",
        "    category = []\n",
        "    for conversion in df[conversion_col]:\n",
        "      if conversion < 6:\n",
        "        category.append('less than 6')\n",
        "      elif 6 <= conversion < 11:\n",
        "        category.append('6 - 10')\n",
        "      elif 11 <= conversion < 16:\n",
        "        category.append('10 - 15')\n",
        "      else:\n",
        "        category.append('more than 15')\n",
        "    return category\n",
        "\n",
        "#applying function of different campaign's conversion\n",
        "df['Facebook Conversion Category'] = create_conversion_category('Facebook Ad Conversions')\n",
        "df['AdWorks Conversion Category'] = create_conversion_category('AdWorks Ad Conversions')"
      ],
      "metadata": {
        "id": "QhI9XKxvN-Jd"
      },
      "execution_count": null,
      "outputs": []
    },
    {
      "cell_type": "code",
      "source": [
        "df[['Facebook Ad Conversions', 'Facebook Conversion Category', 'AdWorks Ad Conversions', 'AdWorks Conversion Category']].head()"
      ],
      "metadata": {
        "id": "32DOKqdEN-G7"
      },
      "execution_count": null,
      "outputs": []
    },
    {
      "cell_type": "code",
      "source": [
        "df['Facebook Conversion Category'].value_counts()"
      ],
      "metadata": {
        "id": "yqft_Rx1Opcl"
      },
      "execution_count": null,
      "outputs": []
    },
    {
      "cell_type": "code",
      "source": [
        "facebook = pd.DataFrame(df['Facebook Conversion Category'].value_counts()).reset_index().rename(columns = {'Facebook Conversion Category': 'Category'})\n",
        "facebook"
      ],
      "metadata": {
        "id": "_DXh-cF9OpZS"
      },
      "execution_count": null,
      "outputs": []
    },
    {
      "cell_type": "code",
      "source": [
        "df['AdWorks Conversion Category'].value_counts()"
      ],
      "metadata": {
        "id": "ki0yR-w3OpWi"
      },
      "execution_count": null,
      "outputs": []
    },
    {
      "cell_type": "code",
      "source": [
        "adworks = pd.DataFrame(df['AdWorks Conversion Category'].value_counts()).reset_index().rename(columns = {'AdWorks Conversion Category': 'Category'})\n",
        "adworks"
      ],
      "metadata": {
        "id": "fj_-6nU4OpUO"
      },
      "execution_count": null,
      "outputs": []
    },
    {
      "cell_type": "code",
      "source": [
        "category_df = pd.merge(facebook, adworks, on = 'Category', how = 'outer').fillna(0)\n",
        "category_df"
      ],
      "metadata": {
        "id": "X3q6iaJwVyJk"
      },
      "execution_count": null,
      "outputs": []
    },
    {
      "cell_type": "code",
      "source": [
        "category_df = category_df.iloc[[3, 1, 0, 2]]\n",
        "category_df"
      ],
      "metadata": {
        "id": "gnI6nlt8WN19"
      },
      "execution_count": null,
      "outputs": []
    },
    {
      "cell_type": "code",
      "source": [
        "X_axis = np.arange(len(category_df))\n",
        "plt.figure(figsize = (15, 6))\n",
        "plt.bar(X_axis - 0.2, category_df['count_x'], 0.4, label = 'Facebook', color = '#03989E', linewidth = 1, edgecolor = 'k')\n",
        "plt.bar(X_axis + 0.2, category_df['count_y'], 0.4, label = 'AdWorks', color = '#A62372', linewidth = 1, edgecolor = 'k')\n",
        "\n",
        "plt.xsticks(X_axis, category_df['Category'])\n",
        "plt.xlabel(\"Conversion Category\")\n",
        "plt.ylabel(\"Number of days\")\n",
        "plt.title('Frequency of daily conversion categories', fontsize = 15)\n",
        "plt.legend(fontsize = 15)\n",
        "plt.show()"
      ],
      "metadata": {
        "id": "R8mSViS7WNyX"
      },
      "execution_count": null,
      "outputs": []
    },
    {
      "cell_type": "markdown",
      "source": [
        "\n",
        "\n",
        "*   The data suggests Facebook had more frequent higher conversion days than Adworks, which either had very low conversion rates (less than 6) or moderate ones (6 - 10).\n",
        "*   There is a significant variance in the number of high-conversion days between two different campaigns.\n",
        "* The absence of any days with conversions between 10 - 15 and more than 15 in AdWorks indicates a need to review what strategies were changed or what external factors could have influenced these numbers.\n",
        "\n"
      ],
      "metadata": {
        "id": "fVoyI5iSXlHq"
      }
    },
    {
      "cell_type": "markdown",
      "source": [
        "**Do more clicks on the Ad really lead to more sales?**"
      ],
      "metadata": {
        "id": "iYIRL0CIYaiV"
      }
    },
    {
      "cell_type": "code",
      "source": [
        "plt.figure(figsize = (15, 6))\n",
        "plt.subplot(1, 2, 1)\n",
        "plt.title('Facebook')\n",
        "sns.scatterplot(x = df['Facebook Ad Clicks'], y = df['Facebook Ad Conversions'], color = '#03989E')\n",
        "plt.xlabel('Clicks')\n",
        "plt.ylabel('Conversions')\n",
        "plt.subplot(1, 2, 2)\n",
        "plt.title('AdWorks')\n",
        "sns.scatterplot(x = df['AdWorks Ad Clicks'], y = df['AdWorks Ad Conversions'], color = '#03989E')\n",
        "plt.xlabel('Clicks')\n",
        "plt.ylabel('Conversions')\n",
        "plt.show()"
      ],
      "metadata": {
        "id": "bzelPPaUWNwP"
      },
      "execution_count": null,
      "outputs": []
    },
    {
      "cell_type": "code",
      "source": [
        "facebook_corr = df[['Facebook Ad Clicks', 'Facebook Ad Conversions']].corr()\n",
        "facebook_corr"
      ],
      "metadata": {
        "id": "-3pZ8-BOWNtm"
      },
      "execution_count": null,
      "outputs": []
    },
    {
      "cell_type": "code",
      "source": [
        "adworks_corr = df[['AdWorks Ad Clicks', 'AdWorks Ad Conversions']].corr()\n",
        "adworks_corr"
      ],
      "metadata": {
        "id": "yIUEswr-WNqs"
      },
      "execution_count": null,
      "outputs": []
    },
    {
      "cell_type": "code",
      "source": [
        "print('Correlation Coeff \\n----------')\n",
        "print('Facebook: ', round(facebook_corr.values[0, 1], 2))\n",
        "print('AdWorks: ', round(adworks_corr.values[0, 1], 2))"
      ],
      "metadata": {
        "id": "gFP-Pcb7ZI8-"
      },
      "execution_count": null,
      "outputs": []
    },
    {
      "cell_type": "markdown",
      "source": [
        "\n",
        "\n",
        "*   A correlation coefficient of 0.87 indicates a strong positive linear relationship between clicks on Facebook ads and sales. This suggests that as the number of clicks on Facebook ads increase, sales tend o increase as well.\n",
        "*   This strong correlation suggests that Facbook ads are highly effective in driving sales, as a large portion of the variation in sales can be explained by the variation in clicks on Facebook ads.\n",
        "* The strong correlation between clicks on Facebook ads and sales suggests the Facebook advertising is highly effective in driving sales for the business. Increasing investment in Facebook ads or optimizing their performance could potientially lead to even higher sales.\n",
        "* A correlation coefficient of 0.45 indicates a moderate positive linear relationship between clicks on Adwords ads and sales. While there is still a positive relationship, it is not as strong as with Facebook ads.\n",
        "* The moderate correlation between clicks on AdWords ads and sale indicates that while AdWords advertising does contribute to sales, its effectiveness may be influenced by other factors, Further analysis is needed to identify these factors and optimize AdWords campaigns accordingly.\n",
        "\n"
      ],
      "metadata": {
        "id": "rdva9dZ1ZuaO"
      }
    },
    {
      "cell_type": "markdown",
      "source": [
        "###**HYPOTHESIS TESTING**\n",
        "\n",
        "---\n",
        "**Hypothesis** : Advertising on Facebook will result in a greater number of conversions compared to advertising on AdWords.\n",
        "\n",
        "**Null Hypothesis** [H0] : There is no difference in the number of conversions between Facebook and AdWords, or the number of conversions from AdWords is greater than or equal to those from Facebook.\n",
        "\n",
        "H0 : mu_Facebook <= mu_AdWords\n",
        "\n",
        "**Alternate Hypothesis** [H1] : The number of conversions from Facebook is greater than the number of conversions from AdWords.\n",
        "\n",
        "H1 : mu_Facebook > mu_AdWords"
      ],
      "metadata": {
        "id": "0fYMjeXEd_0H"
      }
    },
    {
      "cell_type": "code",
      "source": [
        "print('Mean Conversion \\n----------')\n",
        "print('Facebook: ', round(df['Facebook Ad Conversions'].mean(), 2))\n",
        "print('AdWorks: ', round(df['AdWorks Ad Conversions'].mean(), 2))\n",
        "\n",
        "t_stats, p_value = st.ttest_ind(a = df['Facebook Ad Conversions'], b = df['AdWords Ad Conversions'], equal_var = False)\n",
        "print('t-statistic: ', round(t_stats, 4))\n",
        "print('p-value: ', round(p_value, 4))\n",
        "\n",
        "#comparing the p-value with the significance of 5% or 0.005\n",
        "if p_value < 0.005:\n",
        "  print('Reject the null hypothesis')\n",
        "else:\n",
        "  print('Accept the null hypothesis')"
      ],
      "metadata": {
        "id": "r1HdYwRcZI5b"
      },
      "execution_count": null,
      "outputs": []
    },
    {
      "cell_type": "markdown",
      "source": [
        "\n",
        "\n",
        "*   The mean number of conversions from Facebook ads (11.74) is substantially higher than the mean number of conversions from AdWords ads (5.98). This suggests that, on average, Facebook advertising is more effective in generating conversions comapred to AdWords advertising.\n",
        "*   The T statistics (32.88) is a measure of the difference between the means of the two groups relative to the variation within the groups. A larger T statistics indicates a greater difference between the means of the two groups.\n",
        "* The p-value (9.35e-134) is extremely small, indicating strong evidence against the null hypothesis.\n",
        "* The results strongly support the alternate hypothesis, indicating that the number of conversions from Facebook advertising is indeed greater that the number of conversions from AdWords advertising.\n",
        "* Facebook Advertising appears to be a more effective channel for generating conversions compared to AdWords advertising, based on the sample data analyzed.\n",
        "* Given the significant difference in conversion rates between Facebook and AdWords, consider reallocating resources towards Facebook advertising efforts. This could involve increasing ad spend, expanding targeting efforts, or experimenting with different ad formats to capitalize on the platform's effectiveness in driving conversions.\n"
      ],
      "metadata": {
        "id": "A8JdWuVFgcID"
      }
    },
    {
      "cell_type": "markdown",
      "source": [
        "###**REGRESSION ANALYSIS**\n",
        "\n",
        "---\n",
        "\n",
        "What will happen when I do go with the facebook Ad? How many facebook ad conversions can I except given a certain number of facebook ad clicks?"
      ],
      "metadata": {
        "id": "1Mxzhb1qgbxt"
      }
    },
    {
      "cell_type": "code",
      "source": [
        "#independent variable\n",
        "X = df[['Facebook Ad Clicks']]\n",
        "#dependent variable\n",
        "y = df['Facebook Ad Conversions']\n",
        "#fix this\n",
        "#initializing and fitting Linear Regression model\n",
        "reg_model = LinearRegression().fit(X, y)\n",
        "predict = reg_model.predict(X)\n",
        "\n",
        "#model evaluation\n",
        "r2 = r2_score(y, predict)*100\n",
        "mse = mean_squared_error(y, predict)\n",
        "print('(Accuracy) R2 Score: ', round(r2, 2), '%')\n",
        "print('Mean Squared Error: ', round(mse, 2))"
      ],
      "metadata": {
        "id": "v3VyJ4VNZI23"
      },
      "execution_count": null,
      "outputs": []
    },
    {
      "cell_type": "code",
      "source": [
        "plt.figure(figsize = (8, 8))\n",
        "plt.scatterplot(x = df['Facebook Ad Clicks'], y = df['Facebook Ad Conversion'], color = '#03989E', label = 'Actual data points')\n",
        "plt.plot(df['Facebook Ad Clicks'], predict, color = '#A62372', label = 'Best fit line')\n",
        "plt.legend()\n",
        "plt.show()"
      ],
      "metadata": {
        "id": "uTaBcQFdZI0n"
      },
      "execution_count": null,
      "outputs": []
    },
    {
      "cell_type": "code",
      "source": [
        "print(f'For {50} Clicks, Expected Conversion : {round(reg_model.predict([[50]])[0][0], 2)}')\n",
        "print(f'For {90} Clicks, Expected Conversion : {round(reg_model.predict([[50]])[0][0], 2)}')"
      ],
      "metadata": {
        "id": "SsY_AWVHZIx4"
      },
      "execution_count": null,
      "outputs": []
    },
    {
      "cell_type": "markdown",
      "source": [
        "\n",
        "\n",
        "*   The model has a reasonably good predictive power, with an R2 Score, of ----%. This suggests that it can effectively predict facebook ad conversions based on the number of Facebook ad clicks.\n",
        "*    With the insights provided by the linear regression model, businesses can make informed decisions about resource allocation, budget planning, and campaign optimization.\n",
        "* For instance, knowing the expected number of facebook ad conversions based on a certain number of Facebook ad clicks can help in setting realistic campaign goals, optimizing ad spend, and assessing the ROI of facebook advertising efforts.\n",
        "\n"
      ],
      "metadata": {
        "id": "tgdOhUJQmKvr"
      }
    },
    {
      "cell_type": "markdown",
      "source": [
        "###**Analyzing Facebook campaign metrics over time**"
      ],
      "metadata": {
        "id": "trWbmmjaojqg"
      }
    },
    {
      "cell_type": "code",
      "source": [
        "#cleaning data (removing unwanted symbols from the columns and converting them to numerical columns)\n",
        "df['Facebook Click-Through Rate (Clicks / View)'] = df['Facebook Click-Through Rate (Clicks / View)'].apply(lambda x: float(x[:-1]))\n",
        "df['Facebook Conversion Rate (Conversions / Clicks)'] = df['Facebook Conversion Rate (Conversions / Clicks)'].apply(lambda x: float(x[:-1]))\n",
        "df['Facebook Cost per Click (Ad Cost / Clicks)'] = df['Facebook Cost per Click (Ad Cost / Clicks)'].apply(lambda x: float(x[1:]))\n",
        "df['Cost per Facebook Ad'] = df['Cost per Facebook Ad'].apply(lambda x: float(x[1:]))\n"
      ],
      "metadata": {
        "colab": {
          "base_uri": "https://localhost:8080/",
          "height": 193
        },
        "id": "KcmUV1yBZIvH",
        "outputId": "91c24559-13f6-4060-b779-1d1c8a4a4b8a"
      },
      "execution_count": null,
      "outputs": [
        {
          "output_type": "error",
          "ename": "NameError",
          "evalue": "name 'df' is not defined",
          "traceback": [
            "\u001b[0;31m---------------------------------------------------------------------------\u001b[0m",
            "\u001b[0;31mNameError\u001b[0m                                 Traceback (most recent call last)",
            "\u001b[0;32m<ipython-input-1-47a525ac45a9>\u001b[0m in \u001b[0;36m<cell line: 2>\u001b[0;34m()\u001b[0m\n\u001b[1;32m      1\u001b[0m \u001b[0;31m#cleaning data (removing unwanted symbols from the columns and converting them to numerical columns)\u001b[0m\u001b[0;34m\u001b[0m\u001b[0;34m\u001b[0m\u001b[0m\n\u001b[0;32m----> 2\u001b[0;31m \u001b[0mdf\u001b[0m\u001b[0;34m[\u001b[0m\u001b[0;34m'Facebook Click-Through Rate (Clicks / View)'\u001b[0m\u001b[0;34m]\u001b[0m \u001b[0;34m=\u001b[0m \u001b[0mdf\u001b[0m\u001b[0;34m[\u001b[0m\u001b[0;34m'Facebook Click-Through Rate (Clicks / View)'\u001b[0m\u001b[0;34m]\u001b[0m\u001b[0;34m.\u001b[0m\u001b[0mapply\u001b[0m\u001b[0;34m(\u001b[0m\u001b[0;32mlambda\u001b[0m \u001b[0mx\u001b[0m\u001b[0;34m:\u001b[0m \u001b[0mfloat\u001b[0m\u001b[0;34m(\u001b[0m\u001b[0mx\u001b[0m\u001b[0;34m[\u001b[0m\u001b[0;34m:\u001b[0m\u001b[0;34m-\u001b[0m\u001b[0;36m1\u001b[0m\u001b[0;34m]\u001b[0m\u001b[0;34m)\u001b[0m\u001b[0;34m)\u001b[0m\u001b[0;34m\u001b[0m\u001b[0;34m\u001b[0m\u001b[0m\n\u001b[0m",
            "\u001b[0;31mNameError\u001b[0m: name 'df' is not defined"
          ]
        }
      ]
    },
    {
      "cell_type": "code",
      "source": [
        "#filtering the facebook campaign\n",
        "df = df[['Data',  'Facebook Ad Views',\n",
        "         'Facebook Ad Clicks', 'Facebook Ad Conversions', 'Cost per Facebook Ad',\n",
        "         'Facebook Click-Through Rate (Clicks / View)', 'Facebook Conversion Rate (Conversions / Clicks)',\n",
        "         'Facebook Cost per Click (Ad Cost / Clicks)']]"
      ],
      "metadata": {
        "id": "MwWJDuZVZIr6"
      },
      "execution_count": null,
      "outputs": []
    },
    {
      "cell_type": "markdown",
      "source": [
        "At what times of the month or days of the week do we observe the conversion?"
      ],
      "metadata": {
        "id": "sd75y05a0KRu"
      }
    },
    {
      "cell_type": "code",
      "source": [
        "#extracting month and week day from the date column\n",
        "df['month'] = df['Date'].dt.month\n",
        "df['week'] = df['Date'].dt.weekday"
      ],
      "metadata": {
        "id": "AIQjpKCV0Tf2"
      },
      "execution_count": null,
      "outputs": []
    },
    {
      "cell_type": "code",
      "source": [
        "plt.figure(figsize = (8, 5))\n",
        "plt.title('Weekly Conversion')\n",
        "weekly_conversion = df.groupby('week')['Facebook Ad Conversions'].sum()\n",
        "week_names = ['Monday', 'Tuesday', 'Wednesday', 'Thursday', 'Friday', 'Saturday', 'Sunday']\n",
        "plt.plot(week_names, weekly_conversion['Facebook Ad Conversions'], color = '#03989E', edgecolor = 'k')\n",
        "plt.show()"
      ],
      "metadata": {
        "id": "lXFYYVKG0neQ"
      },
      "execution_count": null,
      "outputs": []
    },
    {
      "cell_type": "code",
      "source": [
        "plt.figure(figsize = (8, 5))\n",
        "plt.title('Monthly Conversion')\n",
        "monthly_conversion = df.groupby('month')['Facebook Ad Conversions'].sum()\n",
        "month_names = ['Jan', 'Feb', 'Mar', 'Apr', 'May', 'Jun', 'Jul', 'Aug', 'Sep', 'Oct', 'Nov', 'Dec']\n",
        "plt.plot(month_names, monthly_conversion['Facebook Ad Conversions'], '-o', color = '#A62372')\n",
        "plt.show()"
      ],
      "metadata": {
        "id": "otj6KjTI0na8"
      },
      "execution_count": null,
      "outputs": []
    },
    {
      "cell_type": "markdown",
      "source": [
        "\n",
        "\n",
        "*   Across the weekdays over a year, the total number of conversions remains relatively consistent, indicating a consistent level of engagement throughout the week. However, Mondays and Tuesdays consistently exhibit the highest conversion rate compared to other days, suggesting that the beginning of the workweek sees heightened user engagement or responsiveness to marketing efforts.\n",
        "*   Examining the monthly trend in conversions reveals an overall upwward trajectory, indicating a general increase in conversions over time. However, certain months stand out with variations in conversion rates. February, April, May, June, August, and November experience a decline in conversions compared to neighboring months. These periods of decreased conversion rates could be influenced by factors such as seasonal fluctuations, changes in consumer behavior, or adjustments in marketing strategies.\n",
        "\n"
      ],
      "metadata": {
        "id": "BrvhkcAe18Le"
      }
    },
    {
      "cell_type": "markdown",
      "source": [
        "**How does the Cost per Conversion (CPC) trend over time?**\n",
        "\n",
        "---\n",
        "\n",
        "Cost per Conversion (CPC) : This metric is used to evaluate the cost effectiveness and profitability of an online advertising campaign. This metric helps marketers understand how much they are spending to obtain each conversion, allowing them to optimize their spending and targeting strategies effectively."
      ],
      "metadata": {
        "id": "3HIWLFya3m8_"
      }
    },
    {
      "cell_type": "code",
      "source": [
        "plt.figure(figsize = (8, 5))\n",
        "plt.title('Monthly Cost per Conversion (CPC)')\n",
        "monthly_df = df.groupby('month')[['Facebook Ad Conversion', 'Cost per Facebook Ad']].sum()\n",
        "monthly_df['Cost per Conversion'] = monthly_df['Cost per Facebook Ad'] / monthly_df['Facebook Ad Conversions']\n",
        "plt.plot(month_names, monthly_df['Cost per Conversion'], '-o', color = '#A62372')\n",
        "plt.show()"
      ],
      "metadata": {
        "id": "yryjrfsg17z9"
      },
      "execution_count": null,
      "outputs": []
    },
    {
      "cell_type": "markdown",
      "source": [
        "\n",
        "\n",
        "*   The CPC trend over the 12-month period shows some fluctuations but overall maintains a relatively stable range.\n",
        "*   May and November have the lowest CPC values, indicating potentially more cost-effective advertising or higher conversion rates during these periods.\n",
        "* February has the highest CPC value, suggesting that advertising costs may be relatively higher during this month compared to others.\n",
        "* Lower CPC values in certain months (e.g., May and November) could indicate periods of higher advertising effectiveness or more favourable market conditions.\n",
        "* Consider allocating more advertising budget to months with historically lower CPC values (e.g., May and November) to maximize ROI.\n",
        "\n"
      ],
      "metadata": {
        "id": "6jIZ_VgR5RT-"
      }
    },
    {
      "cell_type": "markdown",
      "source": [
        "Is there a long-term equilibrium relationship between advertising spend and convesion rates that suggests a stable, proportional impact of budget changes on conversions over time?"
      ],
      "metadata": {
        "id": "Ul-8Vuez6yEh"
      }
    },
    {
      "cell_type": "code",
      "source": [
        "score, p_value, _ = coint(df['Cost per Facebook Ad'],\n",
        "                          df['Facebook Ad Conversions'])\n",
        "print('Cointegration test score:', score)\n",
        "print('P-value:', p_value)\n",
        "if p_value < 0.05:\n",
        "    print('Reject the null hypothesis')\n",
        "else:\n",
        "    print('Accept the null hypothesis)"
      ],
      "metadata": {
        "id": "eJ6dfomc17wh"
      },
      "execution_count": null,
      "outputs": []
    },
    {
      "cell_type": "markdown",
      "source": [
        "\n",
        "\n",
        "*   Since the p-value is significantly lower than the chosen significance level, we reject the null hypothesis. This indicates that there is a long-term equilibrium relationship between advertising spend (cost) and conversions.\n",
        "*   Businesses can use this understanding of the stable relationship between cost and conversions to optimize their advertising strategies. By investing in campaigns that demonstrate a stong return on investment (ROI) and adjusting spending based on performance, companies can maximize conversions while minimizing costs.\n",
        "\n"
      ],
      "metadata": {
        "id": "tL8sGxji7tdW"
      }
    },
    {
      "cell_type": "markdown",
      "source": [
        "# **THANK YOU!**"
      ],
      "metadata": {
        "id": "53qE1rJs8sZ1"
      }
    }
  ]
}